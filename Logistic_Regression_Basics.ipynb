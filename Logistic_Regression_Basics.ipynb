{
  "nbformat": 4,
  "nbformat_minor": 0,
  "metadata": {
    "colab": {
      "name": "Project5.ipynb",
      "provenance": [],
      "collapsed_sections": []
    },
    "kernelspec": {
      "name": "python3",
      "display_name": "Python 3"
    }
  },
  "cells": [
    {
      "cell_type": "markdown",
      "metadata": {
        "id": "IZoKy9MLfgRC"
      },
      "source": [
        "# Part 1\n",
        "\n",
        "Basically copy all of the sample logisticRegression notebook and change the y values to the gold lesion value. "
      ]
    },
    {
      "cell_type": "code",
      "metadata": {
        "id": "Jsn6m-icfewg",
        "outputId": "20741787-fef5-4df0-ea8b-73fd75a95704",
        "colab": {
          "base_uri": "https://localhost:8080/",
          "height": 439
        }
      },
      "source": [
        "import pandas as pd \n",
        "import torch \n",
        "import statsmodels.formula.api as smf\n",
        "import statsmodels as sm\n",
        "import seaborn as sns \n",
        "import matplotlib.pyplot as plt\n",
        "import numpy as np\n",
        "\n",
        "# Read in the data and display a few rows \n",
        "dat = pd.read_csv(\"https://raw.githubusercontent.com/bcaffo/ds4bme_intro/master/data/oasis.csv\")\n",
        "\n",
        "# Use the gold lesion binary variable for y, T2 variable for x, and normalize both\n",
        "dat = dat.assign(y = dat.GOLD_Lesions);\n",
        "dat = dat.assign(x = (dat.T2 - np.mean(dat.T2)) / np.std(dat.T2));\n",
        "dat"
      ],
      "execution_count": 2,
      "outputs": [
        {
          "output_type": "execute_result",
          "data": {
            "text/html": [
              "<div>\n",
              "<style scoped>\n",
              "    .dataframe tbody tr th:only-of-type {\n",
              "        vertical-align: middle;\n",
              "    }\n",
              "\n",
              "    .dataframe tbody tr th {\n",
              "        vertical-align: top;\n",
              "    }\n",
              "\n",
              "    .dataframe thead th {\n",
              "        text-align: right;\n",
              "    }\n",
              "</style>\n",
              "<table border=\"1\" class=\"dataframe\">\n",
              "  <thead>\n",
              "    <tr style=\"text-align: right;\">\n",
              "      <th></th>\n",
              "      <th>FLAIR</th>\n",
              "      <th>PD</th>\n",
              "      <th>T1</th>\n",
              "      <th>T2</th>\n",
              "      <th>FLAIR_10</th>\n",
              "      <th>PD_10</th>\n",
              "      <th>T1_10</th>\n",
              "      <th>T2_10</th>\n",
              "      <th>FLAIR_20</th>\n",
              "      <th>PD_20</th>\n",
              "      <th>T1_20</th>\n",
              "      <th>T2_20</th>\n",
              "      <th>GOLD_Lesions</th>\n",
              "      <th>y</th>\n",
              "      <th>x</th>\n",
              "    </tr>\n",
              "  </thead>\n",
              "  <tbody>\n",
              "    <tr>\n",
              "      <th>0</th>\n",
              "      <td>1.143692</td>\n",
              "      <td>1.586219</td>\n",
              "      <td>-0.799859</td>\n",
              "      <td>1.634467</td>\n",
              "      <td>0.437568</td>\n",
              "      <td>0.823800</td>\n",
              "      <td>-0.002059</td>\n",
              "      <td>0.573663</td>\n",
              "      <td>0.279832</td>\n",
              "      <td>0.548341</td>\n",
              "      <td>0.219136</td>\n",
              "      <td>0.298662</td>\n",
              "      <td>0</td>\n",
              "      <td>0</td>\n",
              "      <td>1.466353</td>\n",
              "    </tr>\n",
              "    <tr>\n",
              "      <th>1</th>\n",
              "      <td>1.652552</td>\n",
              "      <td>1.766672</td>\n",
              "      <td>-1.250992</td>\n",
              "      <td>0.921230</td>\n",
              "      <td>0.663037</td>\n",
              "      <td>0.880250</td>\n",
              "      <td>-0.422060</td>\n",
              "      <td>0.542597</td>\n",
              "      <td>0.422182</td>\n",
              "      <td>0.549711</td>\n",
              "      <td>0.061573</td>\n",
              "      <td>0.280972</td>\n",
              "      <td>0</td>\n",
              "      <td>0</td>\n",
              "      <td>0.534121</td>\n",
              "    </tr>\n",
              "    <tr>\n",
              "      <th>2</th>\n",
              "      <td>1.036099</td>\n",
              "      <td>0.262042</td>\n",
              "      <td>-0.858565</td>\n",
              "      <td>-0.058211</td>\n",
              "      <td>-0.044280</td>\n",
              "      <td>-0.308569</td>\n",
              "      <td>0.014766</td>\n",
              "      <td>-0.256075</td>\n",
              "      <td>-0.136532</td>\n",
              "      <td>-0.350905</td>\n",
              "      <td>0.020673</td>\n",
              "      <td>-0.259914</td>\n",
              "      <td>0</td>\n",
              "      <td>0</td>\n",
              "      <td>-0.746050</td>\n",
              "    </tr>\n",
              "    <tr>\n",
              "      <th>3</th>\n",
              "      <td>1.037692</td>\n",
              "      <td>0.011104</td>\n",
              "      <td>-1.228796</td>\n",
              "      <td>-0.470222</td>\n",
              "      <td>-0.013971</td>\n",
              "      <td>-0.000498</td>\n",
              "      <td>-0.395575</td>\n",
              "      <td>-0.221900</td>\n",
              "      <td>0.000807</td>\n",
              "      <td>-0.003085</td>\n",
              "      <td>-0.193249</td>\n",
              "      <td>-0.139284</td>\n",
              "      <td>0</td>\n",
              "      <td>0</td>\n",
              "      <td>-1.284565</td>\n",
              "    </tr>\n",
              "    <tr>\n",
              "      <th>4</th>\n",
              "      <td>1.580589</td>\n",
              "      <td>1.730152</td>\n",
              "      <td>-0.860949</td>\n",
              "      <td>1.245609</td>\n",
              "      <td>0.617957</td>\n",
              "      <td>0.866352</td>\n",
              "      <td>-0.099919</td>\n",
              "      <td>0.384261</td>\n",
              "      <td>0.391133</td>\n",
              "      <td>0.608826</td>\n",
              "      <td>0.071648</td>\n",
              "      <td>0.340601</td>\n",
              "      <td>0</td>\n",
              "      <td>0</td>\n",
              "      <td>0.958099</td>\n",
              "    </tr>\n",
              "    <tr>\n",
              "      <th>...</th>\n",
              "      <td>...</td>\n",
              "      <td>...</td>\n",
              "      <td>...</td>\n",
              "      <td>...</td>\n",
              "      <td>...</td>\n",
              "      <td>...</td>\n",
              "      <td>...</td>\n",
              "      <td>...</td>\n",
              "      <td>...</td>\n",
              "      <td>...</td>\n",
              "      <td>...</td>\n",
              "      <td>...</td>\n",
              "      <td>...</td>\n",
              "      <td>...</td>\n",
              "      <td>...</td>\n",
              "    </tr>\n",
              "    <tr>\n",
              "      <th>95</th>\n",
              "      <td>3.873210</td>\n",
              "      <td>0.539509</td>\n",
              "      <td>1.075184</td>\n",
              "      <td>0.741517</td>\n",
              "      <td>0.490891</td>\n",
              "      <td>-0.072004</td>\n",
              "      <td>0.490218</td>\n",
              "      <td>-0.202590</td>\n",
              "      <td>0.209201</td>\n",
              "      <td>-0.077513</td>\n",
              "      <td>0.209763</td>\n",
              "      <td>-0.102731</td>\n",
              "      <td>1</td>\n",
              "      <td>1</td>\n",
              "      <td>0.299229</td>\n",
              "    </tr>\n",
              "    <tr>\n",
              "      <th>96</th>\n",
              "      <td>1.497552</td>\n",
              "      <td>-0.323060</td>\n",
              "      <td>0.751151</td>\n",
              "      <td>-0.151303</td>\n",
              "      <td>0.091900</td>\n",
              "      <td>-0.482855</td>\n",
              "      <td>0.296390</td>\n",
              "      <td>-0.255905</td>\n",
              "      <td>-0.023249</td>\n",
              "      <td>-0.339573</td>\n",
              "      <td>0.115855</td>\n",
              "      <td>-0.151665</td>\n",
              "      <td>1</td>\n",
              "      <td>1</td>\n",
              "      <td>-0.867725</td>\n",
              "    </tr>\n",
              "    <tr>\n",
              "      <th>97</th>\n",
              "      <td>1.634460</td>\n",
              "      <td>-0.240130</td>\n",
              "      <td>1.530142</td>\n",
              "      <td>-0.817861</td>\n",
              "      <td>0.195918</td>\n",
              "      <td>0.268417</td>\n",
              "      <td>0.378934</td>\n",
              "      <td>0.050704</td>\n",
              "      <td>0.018602</td>\n",
              "      <td>0.165713</td>\n",
              "      <td>0.246406</td>\n",
              "      <td>0.073374</td>\n",
              "      <td>1</td>\n",
              "      <td>1</td>\n",
              "      <td>-1.738944</td>\n",
              "    </tr>\n",
              "    <tr>\n",
              "      <th>98</th>\n",
              "      <td>1.484775</td>\n",
              "      <td>0.567067</td>\n",
              "      <td>-0.353472</td>\n",
              "      <td>0.542373</td>\n",
              "      <td>-0.005206</td>\n",
              "      <td>-0.063825</td>\n",
              "      <td>0.136869</td>\n",
              "      <td>-0.120705</td>\n",
              "      <td>0.015719</td>\n",
              "      <td>0.093438</td>\n",
              "      <td>0.010343</td>\n",
              "      <td>-0.006837</td>\n",
              "      <td>1</td>\n",
              "      <td>1</td>\n",
              "      <td>0.038939</td>\n",
              "    </tr>\n",
              "    <tr>\n",
              "      <th>99</th>\n",
              "      <td>1.748226</td>\n",
              "      <td>0.633330</td>\n",
              "      <td>0.583970</td>\n",
              "      <td>0.750313</td>\n",
              "      <td>0.503704</td>\n",
              "      <td>0.030620</td>\n",
              "      <td>0.418390</td>\n",
              "      <td>0.173066</td>\n",
              "      <td>0.081150</td>\n",
              "      <td>-0.096228</td>\n",
              "      <td>0.195650</td>\n",
              "      <td>0.026891</td>\n",
              "      <td>1</td>\n",
              "      <td>1</td>\n",
              "      <td>0.310726</td>\n",
              "    </tr>\n",
              "  </tbody>\n",
              "</table>\n",
              "<p>100 rows × 15 columns</p>\n",
              "</div>"
            ],
            "text/plain": [
              "       FLAIR        PD        T1        T2  ...     T2_20  GOLD_Lesions  y         x\n",
              "0   1.143692  1.586219 -0.799859  1.634467  ...  0.298662             0  0  1.466353\n",
              "1   1.652552  1.766672 -1.250992  0.921230  ...  0.280972             0  0  0.534121\n",
              "2   1.036099  0.262042 -0.858565 -0.058211  ... -0.259914             0  0 -0.746050\n",
              "3   1.037692  0.011104 -1.228796 -0.470222  ... -0.139284             0  0 -1.284565\n",
              "4   1.580589  1.730152 -0.860949  1.245609  ...  0.340601             0  0  0.958099\n",
              "..       ...       ...       ...       ...  ...       ...           ... ..       ...\n",
              "95  3.873210  0.539509  1.075184  0.741517  ... -0.102731             1  1  0.299229\n",
              "96  1.497552 -0.323060  0.751151 -0.151303  ... -0.151665             1  1 -0.867725\n",
              "97  1.634460 -0.240130  1.530142 -0.817861  ...  0.073374             1  1 -1.738944\n",
              "98  1.484775  0.567067 -0.353472  0.542373  ... -0.006837             1  1  0.038939\n",
              "99  1.748226  0.633330  0.583970  0.750313  ...  0.026891             1  1  0.310726\n",
              "\n",
              "[100 rows x 15 columns]"
            ]
          },
          "metadata": {
            "tags": []
          },
          "execution_count": 2
        }
      ]
    },
    {
      "cell_type": "code",
      "metadata": {
        "id": "PJ0vdBLPheLw",
        "outputId": "1af434fc-34bc-43e2-be76-8f3ca9bfc7a1",
        "colab": {
          "base_uri": "https://localhost:8080/",
          "height": 299
        }
      },
      "source": [
        "# Create a logistic regression model and name it fit \n",
        "fit = smf.logit('y ~ x',  data = dat).fit();\n",
        "fit.summary()"
      ],
      "execution_count": null,
      "outputs": [
        {
          "output_type": "stream",
          "text": [
            "Optimization terminated successfully.\n",
            "         Current function value: 0.687421\n",
            "         Iterations 4\n"
          ],
          "name": "stdout"
        },
        {
          "output_type": "execute_result",
          "data": {
            "text/html": [
              "<table class=\"simpletable\">\n",
              "<caption>Logit Regression Results</caption>\n",
              "<tr>\n",
              "  <th>Dep. Variable:</th>           <td>y</td>        <th>  No. Observations:  </th>  <td>   100</td> \n",
              "</tr>\n",
              "<tr>\n",
              "  <th>Model:</th>                 <td>Logit</td>      <th>  Df Residuals:      </th>  <td>    98</td> \n",
              "</tr>\n",
              "<tr>\n",
              "  <th>Method:</th>                 <td>MLE</td>       <th>  Df Model:          </th>  <td>     1</td> \n",
              "</tr>\n",
              "<tr>\n",
              "  <th>Date:</th>            <td>Mon, 05 Oct 2020</td> <th>  Pseudo R-squ.:     </th> <td>0.008262</td>\n",
              "</tr>\n",
              "<tr>\n",
              "  <th>Time:</th>                <td>15:18:45</td>     <th>  Log-Likelihood:    </th> <td> -68.742</td>\n",
              "</tr>\n",
              "<tr>\n",
              "  <th>converged:</th>             <td>True</td>       <th>  LL-Null:           </th> <td> -69.315</td>\n",
              "</tr>\n",
              "<tr>\n",
              "  <th>Covariance Type:</th>     <td>nonrobust</td>    <th>  LLR p-value:       </th>  <td>0.2845</td> \n",
              "</tr>\n",
              "</table>\n",
              "<table class=\"simpletable\">\n",
              "<tr>\n",
              "      <td></td>         <th>coef</th>     <th>std err</th>      <th>z</th>      <th>P>|z|</th>  <th>[0.025</th>    <th>0.975]</th>  \n",
              "</tr>\n",
              "<tr>\n",
              "  <th>Intercept</th> <td>    0.0005</td> <td>    0.201</td> <td>    0.002</td> <td> 0.998</td> <td>   -0.394</td> <td>    0.395</td>\n",
              "</tr>\n",
              "<tr>\n",
              "  <th>x</th>         <td>    0.2159</td> <td>    0.204</td> <td>    1.061</td> <td> 0.289</td> <td>   -0.183</td> <td>    0.615</td>\n",
              "</tr>\n",
              "</table>"
            ],
            "text/plain": [
              "<class 'statsmodels.iolib.summary.Summary'>\n",
              "\"\"\"\n",
              "                           Logit Regression Results                           \n",
              "==============================================================================\n",
              "Dep. Variable:                      y   No. Observations:                  100\n",
              "Model:                          Logit   Df Residuals:                       98\n",
              "Method:                           MLE   Df Model:                            1\n",
              "Date:                Mon, 05 Oct 2020   Pseudo R-squ.:                0.008262\n",
              "Time:                        15:18:45   Log-Likelihood:                -68.742\n",
              "converged:                       True   LL-Null:                       -69.315\n",
              "Covariance Type:            nonrobust   LLR p-value:                    0.2845\n",
              "==============================================================================\n",
              "                 coef    std err          z      P>|z|      [0.025      0.975]\n",
              "------------------------------------------------------------------------------\n",
              "Intercept      0.0005      0.201      0.002      0.998      -0.394       0.395\n",
              "x              0.2159      0.204      1.061      0.289      -0.183       0.615\n",
              "==============================================================================\n",
              "\"\"\""
            ]
          },
          "metadata": {
            "tags": []
          },
          "execution_count": 14
        }
      ]
    },
    {
      "cell_type": "code",
      "metadata": {
        "id": "_2FdF4h1kLA3"
      },
      "source": [
        "# The predictions based on fit \n",
        "yhat = 1 / (1 + np.exp(-fit.fittedvalues));"
      ],
      "execution_count": null,
      "outputs": []
    },
    {
      "cell_type": "code",
      "metadata": {
        "id": "N3nn518ukTrC",
        "outputId": "a558d7be-3f3a-48d1-9f04-2102b0e851f8",
        "colab": {
          "base_uri": "https://localhost:8080/",
          "height": 34
        }
      },
      "source": [
        "# Reshape everything for pytorch \n",
        "n = dat.shape[0];\n",
        "\n",
        "# Turn the x and y into tensors \n",
        "xTrain = torch.from_numpy(dat['x'].values);\n",
        "yTrain = torch.from_numpy(dat['y'].values);\n",
        "\n",
        "# Convert values to floats\n",
        "xTrain = xTrain.float(); \n",
        "yTrain = yTrain.float(); \n",
        "\n",
        "# Squeeze the second dimension \n",
        "xTrain = xTrain.unsqueeze(1); \n",
        "yTrain = yTrain.unsqueeze(1); \n",
        "\n",
        "# Show that everything is the right size\n",
        "[xTrain.shape, \n",
        " yTrain.shape,\n",
        " [n, 1]\n",
        " ]"
      ],
      "execution_count": null,
      "outputs": [
        {
          "output_type": "execute_result",
          "data": {
            "text/plain": [
              "[torch.Size([100, 1]), torch.Size([100, 1]), [100, 1]]"
            ]
          },
          "metadata": {
            "tags": []
          },
          "execution_count": 16
        }
      ]
    },
    {
      "cell_type": "code",
      "metadata": {
        "id": "U7Qvc1_Jlowe"
      },
      "source": [
        "# Define a logistic regression class \n",
        "class LogisticRegression(torch.nn.Module):\n",
        "  def __init__(self):\n",
        "    super(LogisticRegression, self).__init__();\n",
        "    self.linear = torch.nn.Linear(1, 1, bias = True);\n",
        "  def forward(self, x): \n",
        "    y_pred = torch.sigmoid(self.linear(x)); \n",
        "    return y_pred; \n",
        "\n",
        "# Create a model called model \n",
        "model = LogisticRegression(); \n",
        "\n",
        "# MSE is the loss the function \n",
        "loss_fn = torch.nn.BCELoss();\n",
        "\n",
        "# Set the optimizer\n",
        "optimizer = torch.optim.SGD(model.parameters(), lr = 1e-4);\n",
        "\n",
        "# Loop over iterations, may have to play with number of iterations\n",
        "for t in range(1000000): \n",
        "\n",
        "  # Forward propagation\n",
        "  y_pred = model(xTrain);\n",
        "\n",
        "  # The loss for this iteration\n",
        "  loss = loss_fn(y_pred, yTrain); \n",
        "\n",
        "  # Zero out gradients before adding them up \n",
        "  optimizer.zero_grad(); \n",
        "\n",
        "  # Backwards propagation\n",
        "  loss.backward(); \n",
        "\n",
        "  # Optimization step \n",
        "  optimizer.step(); \n"
      ],
      "execution_count": null,
      "outputs": []
    },
    {
      "cell_type": "code",
      "metadata": {
        "id": "C3tMm0K5nEEb",
        "outputId": "18826e8b-b60f-41bb-9214-8ff21bd4a21d",
        "colab": {
          "base_uri": "https://localhost:8080/",
          "height": 265
        }
      },
      "source": [
        "ytest = model(xTrain); \n",
        "ytest = ytest.detach().numpy().reshape(-1);\n",
        "plt.plot(yhat, ytest, \".\");\n",
        "plt.plot([.35, .7], [.35, .7], linewidth = 2);"
      ],
      "execution_count": null,
      "outputs": [
        {
          "output_type": "display_data",
          "data": {
            "image/png": "[encoded data removed]",
            "text/plain": [
              "<Figure size 432x288 with 1 Axes>"
            ]
          },
          "metadata": {
            "tags": [],
            "needs_background": "light"
          }
        }
      ]
    },
    {
      "cell_type": "code",
      "metadata": {
        "id": "FhQeuv8endPy",
        "outputId": "03b216f8-18af-4ada-fa64-a70732e9bf14",
        "colab": {
          "base_uri": "https://localhost:8080/",
          "height": 51
        }
      },
      "source": [
        "for param in model.parameters():\n",
        "  print(param.data);"
      ],
      "execution_count": null,
      "outputs": [
        {
          "output_type": "stream",
          "text": [
            "tensor([[0.2162]])\n",
            "tensor([0.0005])\n"
          ],
          "name": "stdout"
        }
      ]
    },
    {
      "cell_type": "markdown",
      "metadata": {
        "id": "QbMfqPLwflBJ"
      },
      "source": [
        "# Part 2"
      ]
    },
    {
      "cell_type": "code",
      "metadata": {
        "id": "SdzMwLTWXqLO",
        "outputId": "d13e2726-5c1a-4c88-f98a-2935a904a84f",
        "colab": {
          "base_uri": "https://localhost:8080/",
          "height": 204
        }
      },
      "source": [
        "import statsmodels.formula.api as smf\n",
        "import sklearn as skl\n",
        "from sklearn.metrics import mean_squared_error\n",
        "from sklearn.linear_model import LinearRegression\n",
        "df = pd.read_csv(\"https://raw.githubusercontent.com/tidyverse/ggplot2/master/data-raw/diamonds.csv\");\n",
        "\n",
        "df.dtypes\n",
        "\n",
        "# Isolate the variables of type object\n",
        "obj_df = df.select_dtypes(include=['object']).copy()\n",
        "obj_df.head()\n",
        "\n",
        "# Look at relative frequencies of categorical variables\n",
        "obj_df[\"cut\"].value_counts()\n",
        "\n",
        "obj_df[\"cut\"] = obj_df[\"cut\"].astype('category')\n",
        "obj_df[\"color\"] = obj_df[\"color\"].astype('category')\n",
        "obj_df[\"clarity\"] = obj_df[\"clarity\"].astype('category')\n",
        "obj_df.dtypes\n",
        "\n",
        "# Change categorical data to take on numerical values \n",
        "obj_df[\"cut_cat\"] = obj_df[\"cut\"].cat.codes\n",
        "obj_df[\"color_cat\"] = obj_df[\"color\"].cat.codes\n",
        "obj_df[\"clarity_cat\"] = obj_df[\"clarity\"].cat.codes\n",
        "obj_df = obj_df.drop(['cut', 'clarity', 'color'], axis = 1);\n",
        "obj_df.head()\n",
        "\n",
        "\n",
        "# Function to normalize a set of data\n",
        "def normalize(x):\n",
        "  return (x - np.mean(x)) / np.std(x); \n",
        "\n",
        "df = df.drop(['depth', 'table', 'x', 'y', 'z'], axis = 1);\n",
        "df = df.drop(['cut', 'clarity', 'color'], axis = 1);\n",
        "df = pd.concat([obj_df, df], axis = 1);\n",
        "df.head()\n",
        "\n",
        "df = df.assign(\n",
        "    y = normalize(df.price),\n",
        "    x1 = normalize(df.cut_cat),\n",
        "    x2 = normalize(df.color_cat), \n",
        "    x3 = normalize(df.clarity_cat),\n",
        "    x4 = normalize(df.carat)\n",
        ")\n",
        "df = df.filter(['y','x1','x2','x3','x4'], axis = 1)\n",
        "df.head()"
      ],
      "execution_count": 11,
      "outputs": [
        {
          "output_type": "execute_result",
          "data": {
            "text/html": [
              "<div>\n",
              "<style scoped>\n",
              "    .dataframe tbody tr th:only-of-type {\n",
              "        vertical-align: middle;\n",
              "    }\n",
              "\n",
              "    .dataframe tbody tr th {\n",
              "        vertical-align: top;\n",
              "    }\n",
              "\n",
              "    .dataframe thead th {\n",
              "        text-align: right;\n",
              "    }\n",
              "</style>\n",
              "<table border=\"1\" class=\"dataframe\">\n",
              "  <thead>\n",
              "    <tr style=\"text-align: right;\">\n",
              "      <th></th>\n",
              "      <th>y</th>\n",
              "      <th>x1</th>\n",
              "      <th>x2</th>\n",
              "      <th>x3</th>\n",
              "      <th>x4</th>\n",
              "    </tr>\n",
              "  </thead>\n",
              "  <tbody>\n",
              "    <tr>\n",
              "      <th>0</th>\n",
              "      <td>-0.904095</td>\n",
              "      <td>-0.538099</td>\n",
              "      <td>-0.937163</td>\n",
              "      <td>-0.484264</td>\n",
              "      <td>-1.198168</td>\n",
              "    </tr>\n",
              "    <tr>\n",
              "      <th>1</th>\n",
              "      <td>-0.904095</td>\n",
              "      <td>0.434949</td>\n",
              "      <td>-0.937163</td>\n",
              "      <td>-1.064117</td>\n",
              "      <td>-1.240361</td>\n",
              "    </tr>\n",
              "    <tr>\n",
              "      <th>2</th>\n",
              "      <td>-0.903844</td>\n",
              "      <td>-1.511147</td>\n",
              "      <td>-0.937163</td>\n",
              "      <td>0.095589</td>\n",
              "      <td>-1.198168</td>\n",
              "    </tr>\n",
              "    <tr>\n",
              "      <th>3</th>\n",
              "      <td>-0.902090</td>\n",
              "      <td>0.434949</td>\n",
              "      <td>1.414272</td>\n",
              "      <td>0.675442</td>\n",
              "      <td>-1.071587</td>\n",
              "    </tr>\n",
              "    <tr>\n",
              "      <th>4</th>\n",
              "      <td>-0.901839</td>\n",
              "      <td>-1.511147</td>\n",
              "      <td>2.002131</td>\n",
              "      <td>-0.484264</td>\n",
              "      <td>-1.029394</td>\n",
              "    </tr>\n",
              "  </tbody>\n",
              "</table>\n",
              "</div>"
            ],
            "text/plain": [
              "          y        x1        x2        x3        x4\n",
              "0 -0.904095 -0.538099 -0.937163 -0.484264 -1.198168\n",
              "1 -0.904095  0.434949 -0.937163 -1.064117 -1.240361\n",
              "2 -0.903844 -1.511147 -0.937163  0.095589 -1.198168\n",
              "3 -0.902090  0.434949  1.414272  0.675442 -1.071587\n",
              "4 -0.901839 -1.511147  2.002131 -0.484264 -1.029394"
            ]
          },
          "metadata": {
            "tags": []
          },
          "execution_count": 11
        }
      ]
    },
    {
      "cell_type": "code",
      "metadata": {
        "id": "oAlvQdk5I-K5"
      },
      "source": [
        "# Set output and predictors\n",
        "y = df.y \n",
        "x = df.drop('y', axis = 1)\n",
        "\n",
        "# Convert to numpy arrays before torch tensors\n",
        "y = pd.DataFrame.to_numpy(y)\n",
        "x = pd.DataFrame.to_numpy(x) \n",
        "\n",
        "tf = .75\n",
        "sample = np.random.uniform(size = len(df)) < tf\n",
        "xTrain = x[sample]\n",
        "yTrain = y[sample]\n",
        "xTest = x[~sample]\n",
        "yTest = y[~sample]\n",
        "\n",
        "\n",
        "# Switch to floating point tensors for torch \n",
        "xTrain = torch.from_numpy(xTrain).float(); \n",
        "yTrain = torch.from_numpy(yTrain).float();\n",
        "xTest = torch.from_numpy(xTest).float();\n",
        "yTest = torch.from_numpy(yTest).float(); \n",
        "# Unsqueeze yTrain to make it correct dimensions\n",
        "yTrain = yTrain.unsqueeze(1);\n",
        "yTest = yTest.unsqueeze(1);\n",
        "\n"
      ],
      "execution_count": 40,
      "outputs": []
    },
    {
      "cell_type": "code",
      "metadata": {
        "id": "ooEeSfOwJptr",
        "outputId": "75054891-e125-4fd4-f834-04466fcf8254",
        "colab": {
          "base_uri": "https://localhost:8080/",
          "height": 34
        }
      },
      "source": [
        "# Format to be compatible with torch \n",
        "n = x.shape[0]\n",
        "p = x.shape[1]\n",
        "\n",
        "# Confirm that everything has the correct dimensions\n",
        "print([xTrain.shape, yTrain.shape, [n, p]])"
      ],
      "execution_count": 47,
      "outputs": [
        {
          "output_type": "stream",
          "text": [
            "[torch.Size([40370, 4]), torch.Size([40370, 1]), [53940, 4]]\n"
          ],
          "name": "stdout"
        }
      ]
    },
    {
      "cell_type": "code",
      "metadata": {
        "id": "iK9iPWC-J83M"
      },
      "source": [
        "# Need two hidden layers\n",
        "model = torch.nn.Sequential(\n",
        "    torch.nn.Linear(p, 2), \n",
        "    torch.nn.ReLU(),\n",
        "    torch.nn.Linear(2, 1)\n",
        ")\n",
        "\n",
        "# MSE is the loss function \n",
        "loss_fn = torch.nn.MSELoss(reduction='sum')\n",
        "\n",
        "optimizer = torch.optim.Adam(model.parameters())"
      ],
      "execution_count": 48,
      "outputs": []
    },
    {
      "cell_type": "code",
      "metadata": {
        "id": "tysE9mBDLucU"
      },
      "source": [
        "for t in range(10000):\n",
        "  y_pred = model(xTrain)\n",
        "  loss = loss_fn(y_pred, yTrain)\n",
        "  optimizer.zero_grad()\n",
        "  loss.backward()\n",
        "  optimizer.step()"
      ],
      "execution_count": 43,
      "outputs": []
    },
    {
      "cell_type": "code",
      "metadata": {
        "id": "FqycybrfMDOS",
        "outputId": "7740a679-838f-4cfd-f21f-9f6f72a88982",
        "colab": {
          "base_uri": "https://localhost:8080/",
          "height": 265
        }
      },
      "source": [
        "yhat = model(xTrain).detach().numpy().reshape(-1)\n",
        "plt.plot(yTrain, yhat, \".\")\n",
        "plt.plot([-1, 4], [-1, 4], linewidth = 2);"
      ],
      "execution_count": 44,
      "outputs": [
        {
          "output_type": "display_data",
          "data": {
            "image/png": "[encoded data removed]",
            "text/plain": [
              "<Figure size 432x288 with 1 Axes>"
            ]
          },
          "metadata": {
            "tags": [],
            "needs_background": "light"
          }
        }
      ]
    },
    {
      "cell_type": "code",
      "metadata": {
        "id": "wRuPPtDccopx",
        "outputId": "428d5060-a967-4c50-ed16-5fad13d51dad",
        "colab": {
          "base_uri": "https://localhost:8080/",
          "height": 265
        }
      },
      "source": [
        "yhatTest = model(xTest).detach().numpy().reshape(-1); \n",
        "plt.plot(yTest, yhatTest, \".\");\n",
        "plt.plot([-1, 4], [-1, 4], linewidth = 2);"
      ],
      "execution_count": 46,
      "outputs": [
        {
          "output_type": "display_data",
          "data": {
            "image/png": "[encoded data removed]",
            "text/plain": [
              "<Figure size 432x288 with 1 Axes>"
            ]
          },
          "metadata": {
            "tags": [],
            "needs_background": "light"
          }
        }
      ]
    }
  ]
}
