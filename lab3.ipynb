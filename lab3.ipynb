{
  "nbformat": 4,
  "nbformat_minor": 0,
  "metadata": {
    "colab": {
      "name": "lab3.ipynb",
      "provenance": [],
      "collapsed_sections": []
    },
    "kernelspec": {
      "display_name": "Python 3",
      "language": "python",
      "name": "python3"
    },
    "language_info": {
      "codemirror_mode": {
        "name": "ipython",
        "version": 3
      },
      "file_extension": ".py",
      "mimetype": "text/x-python",
      "name": "python",
      "nbconvert_exporter": "python",
      "pygments_lexer": "ipython3",
      "version": "3.7.3"
    }
  },
  "cells": [
    {
      "cell_type": "markdown",
      "metadata": {
        "id": "oQwEmItmV0AA"
      },
      "source": [
        "# Names \n",
        "Student 1 Name and JHED: Sarah Khan (skhan102)\n",
        "\n",
        "Student 2 Name and JHED: Disha Mishra (dmishra4)"
      ]
    },
    {
      "cell_type": "markdown",
      "metadata": {
        "id": "1JuUN_i9V0AC"
      },
      "source": [
        "# Import modules"
      ]
    },
    {
      "cell_type": "code",
      "metadata": {
        "id": "FObubMDyCtS5"
      },
      "source": [
        "import numpy as np\n",
        "import matplotlib.pyplot as plt\n",
        "import pandas as pd\n",
        "import datetime as date\n",
        "from sklearn.linear_model import SGDClassifier\n",
        "from sklearn.metrics import roc_curve, auc\n",
        "from sklearn.model_selection import KFold\n",
        "\n",
        "# fix random number generator for reproducibility\n",
        "np.random.seed(0)"
      ],
      "execution_count": 2,
      "outputs": []
    },
    {
      "cell_type": "markdown",
      "metadata": {
        "id": "VRXn3hbyV0AL"
      },
      "source": [
        "# Read Data"
      ]
    },
    {
      "cell_type": "code",
      "metadata": {
        "id": "pPL1qcmBV0AM",
        "outputId": "9d4eef7c-7dce-44d3-adad-97e9cee983fe",
        "colab": {
          "base_uri": "https://localhost:8080/",
          "height": 34
        }
      },
      "source": [
        "#===========================================\n",
        "# Read data.  Change DATAPATH if necessary\n",
        "#===========================================\n",
        "try:\n",
        "    # Executes if running in Google Colab\n",
        "    from google.colab import drive\n",
        "    drive.mount('gdrive/')\n",
        "    DATAPATH = \"gdrive/My Drive/\" # Change path to location of data if necessary\n",
        "except:\n",
        "    # Executes if running locally (e.g. Anaconda)\n",
        "    DATAPATH = \"./\"\n",
        "\n",
        "# Read training data\n",
        "traindata = pd.read_csv('/'.join((DATAPATH,'glm.training.data.csv')))\n",
        "X = traindata.iloc[:,1:29].values # Rows are patients, columns are clinical indicators\n",
        "y = traindata.iloc[:,-1].values\n",
        "\n",
        "# Read testing data\n",
        "testdata = pd.read_csv('/'.join((DATAPATH,'glm.test.data.csv')))\n",
        "Xtest = testdata.iloc[:,1:29].values\n",
        "ytest = testdata.iloc[:,-1].values"
      ],
      "execution_count": 3,
      "outputs": [
        {
          "output_type": "stream",
          "text": [
            "Mounted at gdrive/\n"
          ],
          "name": "stdout"
        }
      ]
    },
    {
      "cell_type": "markdown",
      "metadata": {
        "id": "ztrKoqLOV0AR"
      },
      "source": [
        "# Train generalized linear model (i.e. logistic regression)"
      ]
    },
    {
      "cell_type": "code",
      "metadata": {
        "id": "YdwZg2LzETyQ",
        "outputId": "117a8f67-3e01-462b-c792-03621e52c685",
        "colab": {
          "base_uri": "https://localhost:8080/",
          "height": 312
        }
      },
      "source": [
        "# Normalize Training (zero mean, unity standard deviation)\n",
        "X  = X-np.mean(X,axis=0)\n",
        "X  = X/np.std(X,axis=0)\n",
        "\n",
        "# Normalize Testing Data.\n",
        "Xtest  = Xtest - np.mean(Xtest,axis=0)\n",
        "Xtest  = Xtest/np.std(Xtest,axis=0)\n",
        "\n",
        "# Create the model using stochastic gradient descent \n",
        "sgd = SGDClassifier(loss = 'log', alpha = .0001, penalty = 'l1', class_weight= 'balanced')\n",
        "# Initialize the model using training data \n",
        "sgd.fit(X, y) \n",
        "\n",
        "# Get the predictions based on input training data \n",
        "ytrainPred = sgd.predict_proba(X)\n",
        "# Get lists that will be used to plot ROC curve\n",
        "falsePosR, truePosR, thresholdVals = roc_curve(y, ytrainPred[:, 1])\n",
        "#Plot ROC Curve \n",
        "plt.figure()\n",
        "plt.title('ROC Curve')\n",
        "plt.xlabel(\"False Positive Rate\")\n",
        "plt.ylabel(\"True Positive Rate\")\n",
        "plt.plot(falsePosR, truePosR)\n",
        "# Get area under the ROC curve\n",
        "print(\"AUC of ROC curve = \" + str(auc(falsePosR, truePosR)))\n"
      ],
      "execution_count": 4,
      "outputs": [
        {
          "output_type": "stream",
          "text": [
            "AUC of ROC curve = 0.922617214324509\n"
          ],
          "name": "stdout"
        },
        {
          "output_type": "display_data",
          "data": {
            "image/png": "[encoded data removed]",
            "text/plain": [
              "<Figure size 432x288 with 1 Axes>"
            ]
          },
          "metadata": {
            "tags": [],
            "needs_background": "light"
          }
        }
      ]
    },
    {
      "cell_type": "markdown",
      "metadata": {
        "id": "OeNSS4ePV0AW"
      },
      "source": [
        "# Refine the model"
      ]
    },
    {
      "cell_type": "code",
      "metadata": {
        "id": "sSXCqLNrFSyq",
        "outputId": "1566a122-e122-495c-bba4-2392703c1c8c",
        "colab": {
          "base_uri": "https://localhost:8080/",
          "height": 34
        }
      },
      "source": [
        "\"\"\"\n",
        "Write Your code here\n",
        "\"\"\"\n",
        "# create testing set of lambdas and initialize list to store AUC in \n",
        "lambdaTest = [0.1, 0.01, 0.001, 0.0001, 0.00001];\n",
        "lAUC = [];\n",
        "\n",
        "# create subset of numbers that will be used to test by splitting the data\n",
        "s = KFold(n_splits = 4, shuffle = True);\n",
        "\n",
        "for i in lambdaTest:\n",
        "  # initialize list to store each AUC \n",
        "  tAUC = [];\n",
        "  # go in a for-loop to generate training and testing for each fold \n",
        "  for tr,te in s.split(X):\n",
        "    xtr = X[tr];\n",
        "    xte = X[te]; \n",
        "    ytr = y[tr];\n",
        "    yte = y[te];\n",
        "\n",
        "    # find SGD classifier \n",
        "    sgdClass = SGDClassifier(loss = 'log', alpha = i, penalty = 'l1', class_weight = 'balanced', max_iter = 10000);\n",
        "    sgdClass.fit(xtr, ytr);\n",
        "\n",
        "    yH = sgdClass.predict_proba(xtr)[:,1];\n",
        "    fpr, tpr, thr = roc_curve(ytr, yH);\n",
        "    tAUC.append(auc(fpr,tpr));\n",
        "  mtAUC = np.mean(tAUC);\n",
        "  lAUC.append(mtAUC);\n",
        "\n",
        "\n",
        "mInd = np.argmax(lAUC)\n",
        "print(\"Optimal Regularization Value is: \", lambdaTest[mInd])"
      ],
      "execution_count": 5,
      "outputs": [
        {
          "output_type": "stream",
          "text": [
            "Optimal Regularization Value is:  0.001\n"
          ],
          "name": "stdout"
        }
      ]
    },
    {
      "cell_type": "markdown",
      "metadata": {
        "id": "DOIqxl5VV0AZ"
      },
      "source": [
        "# ROC curve on Testing data"
      ]
    },
    {
      "cell_type": "code",
      "metadata": {
        "id": "Pf7qgnbdFaab",
        "outputId": "5c9ca26d-bc0f-4589-bf50-27c9f6dd4fab",
        "colab": {
          "base_uri": "https://localhost:8080/",
          "height": 346
        }
      },
      "source": [
        "\"\"\"\n",
        "Write Your code here\n",
        "\"\"\"\n",
        "# Essentially repeat part b except now we will use the optimal lambda value \n",
        "\n",
        "# Create the model using stochastic gradient descent \n",
        "sgd = SGDClassifier(loss = 'log', alpha = lambdaTest[mInd], penalty = 'l1', class_weight= 'balanced')\n",
        "# Initialize the model using training data \n",
        "sgd.fit(X, y) \n",
        "# Get the predictions based on input training data \n",
        "ytestPred = sgd.predict_proba(Xtest)\n",
        "# Get lists that will be used to plot ROC curve\n",
        "falsePosR, truePosR, thresholdVals = roc_curve(ytest, ytestPred[:, 1])\n",
        "\n",
        "\n",
        "# Get the index corresponding to the threshold value with the smallest dist mag\n",
        "# Getting the distance for each fpr, tpr combination from (0, 1)\n",
        "distances = (1 - truePosR)**2 + (falsePosR)**2\n",
        "# Getting the index associated with the fpr, tpr that's closest to (0, 1)\n",
        "bestThreshInd = np.argmin(distances)\n",
        "\n",
        "# Plot the refined ROC curve from optimized lambda\n",
        "plt.figure()\n",
        "plt.title('ROC Curve')\n",
        "plt.xlabel(\"False Positive Rate\")\n",
        "plt.ylabel(\"True Positive Rate\")\n",
        "plt.plot(falsePosR, truePosR)\n",
        "\n",
        "# Plot a point representing where we get closest to (0, 1)\n",
        "# The best fpr, tpr combination can be accessed with bestThreshInd\n",
        "plt.plot(falsePosR[bestThreshInd], truePosR[bestThreshInd], \"m.\", markersize=10)\n",
        "\n",
        "\n",
        "# Print the area under the curve \n",
        "print(\"AUC of testing ROC curve = \" + str(auc(falsePosR, truePosR)))\n",
        "\n",
        "# Plot the ROC curve corresponding to training data\n",
        "# Get the predictions based on input training data \n",
        "ytrainPred = sgd.predict_proba(X)\n",
        "# Get lists that will be used to plot ROC curve\n",
        "falsePosR, truePosR, thresholdVals = roc_curve(y, ytrainPred[:, 1])\n",
        "# Getting the distance for each fpr, tpr combination from (0, 1)\n",
        "distances = (1 - truePosR)**2 + (falsePosR)**2\n",
        "# Getting the index associated with the fpr, tpr that's closest to (0, 1)\n",
        "bestThreshInd = np.argmin(distances)\n",
        "plt.plot(falsePosR, truePosR)\n",
        "plt.plot(falsePosR[bestThreshInd], truePosR[bestThreshInd], \"m.\", markersize=10)\n",
        "print(\"AUC of training ROC curve  = \" + str(auc(falsePosR, truePosR)))\n",
        "plt.legend(('Testing ROC', 'Minimizers','Training ROC'))"
      ],
      "execution_count": 12,
      "outputs": [
        {
          "output_type": "stream",
          "text": [
            "AUC of testing ROC curve = 0.660512185851408\n",
            "AUC of training ROC curve  = 0.9394856199913725\n"
          ],
          "name": "stdout"
        },
        {
          "output_type": "execute_result",
          "data": {
            "text/plain": [
              "<matplotlib.legend.Legend at 0x7fc88b2d3320>"
            ]
          },
          "metadata": {
            "tags": []
          },
          "execution_count": 12
        },
        {
          "output_type": "display_data",
          "data": {
            "image/png": "[encoded data removed]",
            "text/plain": [
              "<Figure size 432x288 with 1 Axes>"
            ]
          },
          "metadata": {
            "tags": [],
            "needs_background": "light"
          }
        }
      ]
    },
    {
      "cell_type": "markdown",
      "metadata": {
        "id": "aZzEj05kV0Ad"
      },
      "source": [
        "# Early Warning Time (Bonus)"
      ]
    },
    {
      "cell_type": "code",
      "metadata": {
        "id": "2raf6df1FpRM"
      },
      "source": [
        "# Loading timestamp data\n",
        "timestamps = pd.read_csv('/'.join((DATAPATH,'test.timestamps.csv')))['x'].values\n",
        "timeonset  = pd.read_csv('/'.join((DATAPATH,'test.onsets.csv')))['onsets'].values\n",
        "\n",
        "\"\"\"\n",
        "Write Your code here\n",
        "\"\"\""
      ],
      "execution_count": null,
      "outputs": []
    }
  ]
}